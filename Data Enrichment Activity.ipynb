{
 "cells": [
  {
   "cell_type": "code",
   "execution_count": 21,
   "id": "c46d84fb-9884-48aa-bc78-eb8b0405831c",
   "metadata": {
    "tags": []
   },
   "outputs": [],
   "source": [
    "import numpy as np\n",
    "import pandas as pd\n",
    "from math import radians\n",
    "from geopy import distance\n",
    "import sys\n",
    "from math import dist"
   ]
  },
  {
   "cell_type": "code",
   "execution_count": 22,
   "id": "576760bd-5563-468b-a1be-22321e20668d",
   "metadata": {
    "tags": []
   },
   "outputs": [],
   "source": [
    "df_bluebikes = pd.read_csv('Blue_Bike_Stations.csv')\n",
    "\n",
    "df_homesales = pd.read_csv('Boston_Homes_Sales.csv')"
   ]
  },
  {
   "cell_type": "code",
   "execution_count": 23,
   "id": "238a628d-a0fc-476a-8f1f-edece1ed1a2b",
   "metadata": {
    "tags": []
   },
   "outputs": [],
   "source": [
    "bb_subset = df_bluebikes[[\"Number\", \"Name\", \"Latitude\", \"Longitude\", \"District\", \"Total_docks\"]]\n",
    "\n",
    "hs_subset = df_homesales[[\"ADDRESS\",\"CITY\",\"STATE OR PROVINCE\",\"ZIP OR POSTAL CODE\",\"PRICE\",\"LATITUDE\",\"LONGITUDE\",\"MLS\"]]"
   ]
  },
  {
   "cell_type": "code",
   "execution_count": 24,
   "id": "520e2e8a-bb89-4ee8-a95b-3ac4790a6e70",
   "metadata": {
    "tags": []
   },
   "outputs": [
    {
     "name": "stderr",
     "output_type": "stream",
     "text": [
      "/var/folders/sw/x1bms4y570g2tql1p438nt0w0000gn/T/ipykernel_43815/983777498.py:2: UserWarning: DataFrame columns are not unique, some columns will be omitted.\n",
      "  homes_dict = homes_coordinates.set_index('MLS').T.to_dict('list')\n"
     ]
    }
   ],
   "source": [
    "homes_coordinates = hs_subset[[\"MLS\",\"LATITUDE\",\"LONGITUDE\"]]\n",
    "homes_dict = homes_coordinates.set_index('MLS').T.to_dict('list')"
   ]
  },
  {
   "cell_type": "code",
   "execution_count": 25,
   "id": "a7910a64-3322-4e8c-80e3-24cab40619e8",
   "metadata": {
    "tags": []
   },
   "outputs": [],
   "source": [
    "bikes_coordinates = bb_subset[[\"Number\",\"Latitude\",\"Longitude\"]]\n",
    "bikes_dict = bikes_coordinates.set_index('Number').T.to_dict('list')"
   ]
  },
  {
   "cell_type": "code",
   "execution_count": 26,
   "id": "21add851-94be-433f-ab34-539af398ef6d",
   "metadata": {
    "tags": []
   },
   "outputs": [],
   "source": [
    "latitude = []\n",
    "longitude = []\n",
    "Min_Distance = []\n",
    "number = []\n",
    "\n",
    "for [x,y] in homes_dict.values():\n",
    "    min_distance=sys.maxsize\n",
    "    for [p,q] in bikes_dict.values():\n",
    "        res = dist([x,y], [p,q])\n",
    "        if res < min_distance:\n",
    "            min_distance = res\n",
    "            key1 = {i for i in bikes_dict if bikes_dict[i]==[p,q]}\n",
    "            p_value = p\n",
    "            q_value = q\n",
    "            bike_id = ''.join([str(a) for a in key1])\n",
    "    latitude.append(p_value)\n",
    "    longitude.append(q_value)\n",
    "    Min_Distance.append(min_distance)\n",
    "    number.append(bike_id)\n",
    "    key2 = {i for i in homes_dict if homes_dict[i]==[x,y]}        "
   ]
  },
  {
   "cell_type": "code",
   "execution_count": 27,
   "id": "7fa79833-157e-490c-b508-696c64fc3827",
   "metadata": {
    "tags": []
   },
   "outputs": [],
   "source": [
    "new_columns = {\n",
    "    'Nearest_Station_Latitude': latitude,\n",
    "    'Nearest_Station_Longitude': longitude,\n",
    "    'Min_Distance': Min_Distance,\n",
    "    'Nearest_Bike_ID': number}"
   ]
  },
  {
   "cell_type": "code",
   "execution_count": 28,
   "id": "9edeeb88-727c-4dc9-852c-c2e4f7435e4e",
   "metadata": {
    "tags": []
   },
   "outputs": [],
   "source": [
    "new_data = pd.DataFrame(new_columns)"
   ]
  },
  {
   "cell_type": "code",
   "execution_count": 29,
   "id": "17b3dc41-0dbe-4d9a-a07e-20006b8c11bf",
   "metadata": {
    "tags": []
   },
   "outputs": [],
   "source": [
    "homes = pd.concat([hs_subset, new_data], axis=1)"
   ]
  },
  {
   "cell_type": "code",
   "execution_count": 30,
   "id": "5b78b3e6-395a-472f-8925-40f6aeeaf8eb",
   "metadata": {
    "tags": []
   },
   "outputs": [
    {
     "data": {
      "text/html": [
       "<div>\n",
       "<style scoped>\n",
       "    .dataframe tbody tr th:only-of-type {\n",
       "        vertical-align: middle;\n",
       "    }\n",
       "\n",
       "    .dataframe tbody tr th {\n",
       "        vertical-align: top;\n",
       "    }\n",
       "\n",
       "    .dataframe thead th {\n",
       "        text-align: right;\n",
       "    }\n",
       "</style>\n",
       "<table border=\"1\" class=\"dataframe\">\n",
       "  <thead>\n",
       "    <tr style=\"text-align: right;\">\n",
       "      <th></th>\n",
       "      <th>ADDRESS</th>\n",
       "      <th>CITY</th>\n",
       "      <th>STATE OR PROVINCE</th>\n",
       "      <th>ZIP OR POSTAL CODE</th>\n",
       "      <th>PRICE</th>\n",
       "      <th>LATITUDE</th>\n",
       "      <th>LONGITUDE</th>\n",
       "      <th>MLS</th>\n",
       "      <th>Nearest_Station_Latitude</th>\n",
       "      <th>Nearest_Station_Longitude</th>\n",
       "      <th>Min_Distance</th>\n",
       "      <th>Nearest_Bike_ID</th>\n",
       "    </tr>\n",
       "  </thead>\n",
       "  <tbody>\n",
       "    <tr>\n",
       "      <th>0</th>\n",
       "      <td>125 Brook Ave</td>\n",
       "      <td>Boston</td>\n",
       "      <td>MA</td>\n",
       "      <td>2125</td>\n",
       "      <td>699999</td>\n",
       "      <td>42.320341</td>\n",
       "      <td>-71.072642</td>\n",
       "      <td>72896088.0</td>\n",
       "      <td>42.318697</td>\n",
       "      <td>-71.069781</td>\n",
       "      <td>0.003300</td>\n",
       "      <td>B32025</td>\n",
       "    </tr>\n",
       "    <tr>\n",
       "      <th>1</th>\n",
       "      <td>15 Harvest St #3</td>\n",
       "      <td>Boston</td>\n",
       "      <td>MA</td>\n",
       "      <td>2125</td>\n",
       "      <td>529999</td>\n",
       "      <td>42.322919</td>\n",
       "      <td>-71.057507</td>\n",
       "      <td>72896029.0</td>\n",
       "      <td>42.320394</td>\n",
       "      <td>-71.053554</td>\n",
       "      <td>0.004691</td>\n",
       "      <td>C32064</td>\n",
       "    </tr>\n",
       "    <tr>\n",
       "      <th>2</th>\n",
       "      <td>30-32 Westmore Rd</td>\n",
       "      <td>Boston</td>\n",
       "      <td>MA</td>\n",
       "      <td>2126</td>\n",
       "      <td>579900</td>\n",
       "      <td>42.284367</td>\n",
       "      <td>-71.096347</td>\n",
       "      <td>72895108.0</td>\n",
       "      <td>42.288870</td>\n",
       "      <td>-71.095003</td>\n",
       "      <td>0.004699</td>\n",
       "      <td>C32094</td>\n",
       "    </tr>\n",
       "    <tr>\n",
       "      <th>3</th>\n",
       "      <td>15a Goodway #1</td>\n",
       "      <td>Boston</td>\n",
       "      <td>MA</td>\n",
       "      <td>2130</td>\n",
       "      <td>645000</td>\n",
       "      <td>42.289584</td>\n",
       "      <td>-71.115434</td>\n",
       "      <td>72895042.0</td>\n",
       "      <td>42.291180</td>\n",
       "      <td>-71.117737</td>\n",
       "      <td>0.002802</td>\n",
       "      <td>C32078</td>\n",
       "    </tr>\n",
       "    <tr>\n",
       "      <th>4</th>\n",
       "      <td>121 Salem St Unit 2C</td>\n",
       "      <td>Boston</td>\n",
       "      <td>MA</td>\n",
       "      <td>2113</td>\n",
       "      <td>475000</td>\n",
       "      <td>42.364560</td>\n",
       "      <td>-71.055377</td>\n",
       "      <td>72892398.0</td>\n",
       "      <td>42.362811</td>\n",
       "      <td>-71.056067</td>\n",
       "      <td>0.001881</td>\n",
       "      <td>D32010</td>\n",
       "    </tr>\n",
       "    <tr>\n",
       "      <th>...</th>\n",
       "      <td>...</td>\n",
       "      <td>...</td>\n",
       "      <td>...</td>\n",
       "      <td>...</td>\n",
       "      <td>...</td>\n",
       "      <td>...</td>\n",
       "      <td>...</td>\n",
       "      <td>...</td>\n",
       "      <td>...</td>\n",
       "      <td>...</td>\n",
       "      <td>...</td>\n",
       "      <td>...</td>\n",
       "    </tr>\n",
       "    <tr>\n",
       "      <th>345</th>\n",
       "      <td>152 Old Colony Ave #7</td>\n",
       "      <td>Boston</td>\n",
       "      <td>MA</td>\n",
       "      <td>2127</td>\n",
       "      <td>749000</td>\n",
       "      <td>42.334668</td>\n",
       "      <td>-71.054652</td>\n",
       "      <td>72895085.0</td>\n",
       "      <td>42.330733</td>\n",
       "      <td>-71.056999</td>\n",
       "      <td>0.004581</td>\n",
       "      <td>C32012</td>\n",
       "    </tr>\n",
       "    <tr>\n",
       "      <th>346</th>\n",
       "      <td>355 Metropolitan Ave</td>\n",
       "      <td>Boston</td>\n",
       "      <td>MA</td>\n",
       "      <td>2131</td>\n",
       "      <td>875000</td>\n",
       "      <td>42.273216</td>\n",
       "      <td>-71.123661</td>\n",
       "      <td>72895084.0</td>\n",
       "      <td>42.272654</td>\n",
       "      <td>-71.119904</td>\n",
       "      <td>0.003799</td>\n",
       "      <td>C32101</td>\n",
       "    </tr>\n",
       "    <tr>\n",
       "      <th>347</th>\n",
       "      <td>115 Union St #115</td>\n",
       "      <td>Boston</td>\n",
       "      <td>MA</td>\n",
       "      <td>2135</td>\n",
       "      <td>999000</td>\n",
       "      <td>42.346318</td>\n",
       "      <td>-71.152525</td>\n",
       "      <td>72895068.0</td>\n",
       "      <td>42.348949</td>\n",
       "      <td>-71.150272</td>\n",
       "      <td>0.003464</td>\n",
       "      <td>D32028</td>\n",
       "    </tr>\n",
       "    <tr>\n",
       "      <th>348</th>\n",
       "      <td>46 Riverdale St #3</td>\n",
       "      <td>Boston</td>\n",
       "      <td>MA</td>\n",
       "      <td>2134</td>\n",
       "      <td>499000</td>\n",
       "      <td>42.362171</td>\n",
       "      <td>-71.132493</td>\n",
       "      <td>72895066.0</td>\n",
       "      <td>42.360274</td>\n",
       "      <td>-71.128525</td>\n",
       "      <td>0.004398</td>\n",
       "      <td>A32040</td>\n",
       "    </tr>\n",
       "    <tr>\n",
       "      <th>349</th>\n",
       "      <td>308-310 Faneuil St</td>\n",
       "      <td>Boston</td>\n",
       "      <td>MA</td>\n",
       "      <td>2135</td>\n",
       "      <td>1349000</td>\n",
       "      <td>42.352217</td>\n",
       "      <td>-71.163096</td>\n",
       "      <td>72895044.0</td>\n",
       "      <td>42.350570</td>\n",
       "      <td>-71.166491</td>\n",
       "      <td>0.003774</td>\n",
       "      <td>D32031</td>\n",
       "    </tr>\n",
       "  </tbody>\n",
       "</table>\n",
       "<p>350 rows × 12 columns</p>\n",
       "</div>"
      ],
      "text/plain": [
       "                   ADDRESS    CITY STATE OR PROVINCE  ZIP OR POSTAL CODE  \\\n",
       "0            125 Brook Ave  Boston                MA                2125   \n",
       "1         15 Harvest St #3  Boston                MA                2125   \n",
       "2        30-32 Westmore Rd  Boston                MA                2126   \n",
       "3           15a Goodway #1  Boston                MA                2130   \n",
       "4     121 Salem St Unit 2C  Boston                MA                2113   \n",
       "..                     ...     ...               ...                 ...   \n",
       "345  152 Old Colony Ave #7  Boston                MA                2127   \n",
       "346   355 Metropolitan Ave  Boston                MA                2131   \n",
       "347      115 Union St #115  Boston                MA                2135   \n",
       "348     46 Riverdale St #3  Boston                MA                2134   \n",
       "349     308-310 Faneuil St  Boston                MA                2135   \n",
       "\n",
       "       PRICE   LATITUDE  LONGITUDE         MLS  Nearest_Station_Latitude  \\\n",
       "0     699999  42.320341 -71.072642  72896088.0                 42.318697   \n",
       "1     529999  42.322919 -71.057507  72896029.0                 42.320394   \n",
       "2     579900  42.284367 -71.096347  72895108.0                 42.288870   \n",
       "3     645000  42.289584 -71.115434  72895042.0                 42.291180   \n",
       "4     475000  42.364560 -71.055377  72892398.0                 42.362811   \n",
       "..       ...        ...        ...         ...                       ...   \n",
       "345   749000  42.334668 -71.054652  72895085.0                 42.330733   \n",
       "346   875000  42.273216 -71.123661  72895084.0                 42.272654   \n",
       "347   999000  42.346318 -71.152525  72895068.0                 42.348949   \n",
       "348   499000  42.362171 -71.132493  72895066.0                 42.360274   \n",
       "349  1349000  42.352217 -71.163096  72895044.0                 42.350570   \n",
       "\n",
       "     Nearest_Station_Longitude  Min_Distance Nearest_Bike_ID  \n",
       "0                   -71.069781      0.003300          B32025  \n",
       "1                   -71.053554      0.004691          C32064  \n",
       "2                   -71.095003      0.004699          C32094  \n",
       "3                   -71.117737      0.002802          C32078  \n",
       "4                   -71.056067      0.001881          D32010  \n",
       "..                         ...           ...             ...  \n",
       "345                 -71.056999      0.004581          C32012  \n",
       "346                 -71.119904      0.003799          C32101  \n",
       "347                 -71.150272      0.003464          D32028  \n",
       "348                 -71.128525      0.004398          A32040  \n",
       "349                 -71.166491      0.003774          D32031  \n",
       "\n",
       "[350 rows x 12 columns]"
      ]
     },
     "execution_count": 30,
     "metadata": {},
     "output_type": "execute_result"
    }
   ],
   "source": [
    "homes"
   ]
  },
  {
   "cell_type": "code",
   "execution_count": 31,
   "id": "964e6a0b-1905-4736-b946-be49977a0954",
   "metadata": {
    "tags": []
   },
   "outputs": [],
   "source": [
    "#Observations:\n",
    "#With the added columns, the dataset now provides the user information regarding the ease of transportation with the Blue Bike system.\n",
    "#The users can evaluate the distance and what the nearest dock is to the address based on the longitude and latitute, thus being able to also sort the data based on how close the address is to a station for example."
   ]
  }
 ],
 "metadata": {
  "kernelspec": {
   "display_name": "Python 3 (ipykernel)",
   "language": "python",
   "name": "python3"
  },
  "language_info": {
   "codemirror_mode": {
    "name": "ipython",
    "version": 3
   },
   "file_extension": ".py",
   "mimetype": "text/x-python",
   "name": "python",
   "nbconvert_exporter": "python",
   "pygments_lexer": "ipython3",
   "version": "3.11.4"
  }
 },
 "nbformat": 4,
 "nbformat_minor": 5
}
